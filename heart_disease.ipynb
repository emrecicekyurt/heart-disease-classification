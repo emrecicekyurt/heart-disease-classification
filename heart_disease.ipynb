{
  "nbformat": 4,
  "nbformat_minor": 0,
  "metadata": {
    "colab": {
      "name": "heart-disease.ipynb",
      "provenance": [],
      "collapsed_sections": [],
      "authorship_tag": "ABX9TyMjGxmOjWK4xcrXNxE3hR4n",
      "include_colab_link": true
    },
    "kernelspec": {
      "name": "python3",
      "display_name": "Python 3"
    },
    "language_info": {
      "name": "python"
    }
  },
  "cells": [
    {
      "cell_type": "markdown",
      "metadata": {
        "id": "view-in-github",
        "colab_type": "text"
      },
      "source": [
        "<a href=\"https://colab.research.google.com/github/emrecicekyurt/heart-disease-classification/blob/main/heart_disease.ipynb\" target=\"_parent\"><img src=\"https://colab.research.google.com/assets/colab-badge.svg\" alt=\"Open In Colab\"/></a>"
      ]
    },
    {
      "cell_type": "markdown",
      "source": [
        "Importing Libraries"
      ],
      "metadata": {
        "id": "k0Bcsr-PrTTd"
      }
    },
    {
      "cell_type": "code",
      "execution_count": 90,
      "metadata": {
        "id": "1EvJ-Jj9JotT"
      },
      "outputs": [],
      "source": [
        "import numpy as np\n",
        "import matplotlib.pyplot as plt\n",
        "import pandas as pd"
      ]
    },
    {
      "cell_type": "markdown",
      "source": [
        "Reading Dataset\n"
      ],
      "metadata": {
        "id": "RIDp5GfQrYzP"
      }
    },
    {
      "cell_type": "code",
      "source": [
        "dataset = pd.read_csv('heart_2020_cleaned.csv')\n",
        "X = dataset.iloc[:, 1:].values\n",
        "y = dataset.iloc[:, 0].values\n",
        "\n",
        "print(X)\n",
        "print(y)"
      ],
      "metadata": {
        "colab": {
          "base_uri": "https://localhost:8080/"
        },
        "id": "xktdKHWmJ_Ko",
        "outputId": "23cbe8b3-5637-43c5-bc9e-d57bfae76e1a"
      },
      "execution_count": 91,
      "outputs": [
        {
          "output_type": "stream",
          "name": "stdout",
          "text": [
            "[[16.6 'Yes' 'No' ... 'Yes' 'No' 'Yes']\n",
            " [20.34 'No' 'No' ... 'No' 'No' 'No']\n",
            " [26.58 'Yes' 'No' ... 'Yes' 'No' 'No']\n",
            " ...\n",
            " [24.24 'No' 'No' ... 'No' 'No' 'No']\n",
            " [32.81 'No' 'No' ... 'No' 'No' 'No']\n",
            " [46.56 'No' 'No' ... 'No' 'No' 'No']]\n",
            "['No' 'No' 'No' ... 'No' 'No' 'No']\n"
          ]
        }
      ]
    },
    {
      "cell_type": "markdown",
      "source": [
        "Encoding Dependent Variable"
      ],
      "metadata": {
        "id": "iOneSfBZrpK8"
      }
    },
    {
      "cell_type": "code",
      "source": [
        "from sklearn.preprocessing import LabelEncoder\n",
        "le = LabelEncoder()\n",
        "y = le.fit_transform(y)\n",
        "print(y)"
      ],
      "metadata": {
        "colab": {
          "base_uri": "https://localhost:8080/"
        },
        "id": "hYzRVplYLCCF",
        "outputId": "07a87315-a9f8-4a05-ed32-bb744c08297f"
      },
      "execution_count": 92,
      "outputs": [
        {
          "output_type": "stream",
          "name": "stdout",
          "text": [
            "[0 0 0 ... 0 0 0]\n"
          ]
        }
      ]
    },
    {
      "cell_type": "markdown",
      "source": [
        "Encoding Dependent Variable"
      ],
      "metadata": {
        "id": "F44_f92crxbK"
      }
    },
    {
      "cell_type": "code",
      "source": [
        "from sklearn.preprocessing import OneHotEncoder\n",
        "independent_variables_encoding_list = [1, 2, 3, 6, 7, 8, 9, 10, \n",
        "                               11, 12,14, 15, 16]\n",
        "\n",
        "for feature in independent_variables_encoding_list:\n",
        "    X[:,feature] = le.fit_transform(X[:,feature])\n",
        "\n",
        "print(X)"
      ],
      "metadata": {
        "colab": {
          "base_uri": "https://localhost:8080/"
        },
        "id": "9AAOje82LEh3",
        "outputId": "280a9e27-a398-4cc5-f2d1-1dd2a84a015c"
      },
      "execution_count": 93,
      "outputs": [
        {
          "output_type": "stream",
          "name": "stdout",
          "text": [
            "[[16.6 1 0 ... 1 0 1]\n",
            " [20.34 0 0 ... 0 0 0]\n",
            " [26.58 1 0 ... 1 0 0]\n",
            " ...\n",
            " [24.24 0 0 ... 0 0 0]\n",
            " [32.81 0 0 ... 0 0 0]\n",
            " [46.56 0 0 ... 0 0 0]]\n"
          ]
        }
      ]
    },
    {
      "cell_type": "markdown",
      "source": [
        "Splitting data for testing and training"
      ],
      "metadata": {
        "id": "CcGkUQ7_r5JE"
      }
    },
    {
      "cell_type": "code",
      "source": [
        "from sklearn.model_selection import train_test_split\n",
        "X_train, X_test, y_train, y_test = train_test_split(X, y, test_size = 0.2, random_state = 0)\n",
        "print(X_train[0])"
      ],
      "metadata": {
        "colab": {
          "base_uri": "https://localhost:8080/"
        },
        "id": "1lfk6B10Uv4k",
        "outputId": "dfc8e72f-e357-4698-91ec-311e703ee547"
      },
      "execution_count": 94,
      "outputs": [
        {
          "output_type": "stream",
          "name": "stdout",
          "text": [
            "[19.53 1 1 0 0.0 0.0 0 0 9 5 0 1 0 9.0 0 0 1]\n"
          ]
        }
      ]
    },
    {
      "cell_type": "markdown",
      "source": [
        "Scaling the data"
      ],
      "metadata": {
        "id": "jr5wrCZ7sDLy"
      }
    },
    {
      "cell_type": "code",
      "source": [
        "from sklearn.preprocessing import StandardScaler\n",
        "\n",
        "sc = StandardScaler()\n",
        "X_train= sc.fit_transform(X_train)\n",
        "X_test= sc.transform(X_test)\n"
      ],
      "metadata": {
        "id": "GqsiuKNXU8_v"
      },
      "execution_count": 95,
      "outputs": []
    },
    {
      "cell_type": "markdown",
      "source": [
        "Training the model"
      ],
      "metadata": {
        "id": "2tEiNNvfsHD5"
      }
    },
    {
      "cell_type": "code",
      "source": [
        "# Logistic Regression beated other models in terms of accuracy like KNN, Naive Bayes, Decision Tree and Random Forest Tree.\n",
        "from sklearn.linear_model import LogisticRegression\n",
        "classifier = LogisticRegression(random_state = 0)\n",
        "classifier.fit(X_train, y_train)"
      ],
      "metadata": {
        "colab": {
          "base_uri": "https://localhost:8080/"
        },
        "id": "K_Nw2ovhVq0I",
        "outputId": "717c82e1-b8af-4aff-90b9-4d69f01d03f2"
      },
      "execution_count": 96,
      "outputs": [
        {
          "output_type": "execute_result",
          "data": {
            "text/plain": [
              "LogisticRegression(random_state=0)"
            ]
          },
          "metadata": {},
          "execution_count": 96
        }
      ]
    },
    {
      "cell_type": "markdown",
      "source": [
        "Displaying the predictions"
      ],
      "metadata": {
        "id": "UqSZovRfsKIE"
      }
    },
    {
      "cell_type": "code",
      "source": [
        "y_pred = classifier.predict(X_test)\n",
        "print(np.concatenate((y_pred.reshape(len(y_pred),1), y_test.reshape(len(y_test),1)),1))"
      ],
      "metadata": {
        "colab": {
          "base_uri": "https://localhost:8080/"
        },
        "id": "O2jHYs0bpw4j",
        "outputId": "a3dbbeee-daaf-422e-e9cd-d6eee0c66f9b"
      },
      "execution_count": 97,
      "outputs": [
        {
          "output_type": "stream",
          "name": "stdout",
          "text": [
            "[[0 0]\n",
            " [0 0]\n",
            " [0 0]\n",
            " ...\n",
            " [0 0]\n",
            " [0 0]\n",
            " [0 1]]\n"
          ]
        }
      ]
    },
    {
      "cell_type": "markdown",
      "source": [
        "Computing confusion matrix and accuracy score"
      ],
      "metadata": {
        "id": "OgW0nAdust0b"
      }
    },
    {
      "cell_type": "code",
      "source": [
        "from sklearn.metrics import confusion_matrix, accuracy_score\n",
        "y_pred = classifier.predict(X_test)\n",
        "cm = confusion_matrix(y_test, y_pred)\n",
        "print(cm)\n",
        "accuracy_score(y_test, y_pred)"
      ],
      "metadata": {
        "colab": {
          "base_uri": "https://localhost:8080/"
        },
        "id": "Xl8JeMQLVNa0",
        "outputId": "0474365c-9f9b-48b4-80a8-80d6f689c52a"
      },
      "execution_count": 98,
      "outputs": [
        {
          "output_type": "stream",
          "name": "stdout",
          "text": [
            "[[58041   471]\n",
            " [ 4970   477]]\n"
          ]
        },
        {
          "output_type": "execute_result",
          "data": {
            "text/plain": [
              "0.9149298769524227"
            ]
          },
          "metadata": {},
          "execution_count": 98
        }
      ]
    },
    {
      "cell_type": "markdown",
      "source": [
        "A sample prediction below"
      ],
      "metadata": {
        "id": "jxUa32Omszdh"
      }
    },
    {
      "cell_type": "code",
      "source": [
        "print(classifier.predict(sc.transform([[16.6, 1, 0, 0, 3.0, 30.0, 0, 0, 7, 5, 2, 1, 4, 5.0, 1, 0, 1]])))"
      ],
      "metadata": {
        "colab": {
          "base_uri": "https://localhost:8080/"
        },
        "id": "lcxRvtRDp3C5",
        "outputId": "60af6a2b-0fbb-466d-8f80-f47d21b68850"
      },
      "execution_count": 99,
      "outputs": [
        {
          "output_type": "stream",
          "name": "stdout",
          "text": [
            "[0]\n"
          ]
        }
      ]
    }
  ]
}